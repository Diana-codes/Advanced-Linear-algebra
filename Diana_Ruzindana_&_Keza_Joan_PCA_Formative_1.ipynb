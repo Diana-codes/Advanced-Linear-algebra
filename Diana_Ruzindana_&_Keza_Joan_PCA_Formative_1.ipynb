{
  "cells": [
    {
      "cell_type": "markdown",
      "metadata": {
        "id": "Tg1csbumGEwQ"
      },
      "source": [
        "# Formative Assignment: Advanced Linear Algebra (PCA)\n",
        "This notebook will guide you through the implementation of Principal Component Analysis (PCA). Fill in the missing code and provide the required answers in the appropriate sections. You will work with the `fuel_econ.csv` dataset.\n",
        "\n",
        "Make sure to display outputs for each code cell when submitting."
      ]
    },
    {
      "cell_type": "markdown",
      "metadata": {
        "id": "pwDVU7f6GEwX"
      },
      "source": [
        "### Step 1: Load and Standardize the Data\n",
        "Before applying PCA, we must standardize the dataset. Standardization ensures that all features have a mean of 0 and a standard deviation of 1, which is essential for PCA.\n",
        "Fill in the code to standardize the dataset."
      ]
    },
    {
      "cell_type": "code",
      "execution_count": null,
      "metadata": {
        "id": "xGBdssHsGEwY",
        "outputId": "81fe9c4b-d3a0-46a2-a5a9-efaf385495b2",
        "colab": {
          "base_uri": "https://localhost:8080/",
          "height": 331
        }
      },
      "outputs": [
        {
          "output_type": "display_data",
          "data": {
            "text/plain": [
              "<IPython.core.display.HTML object>"
            ],
            "text/html": [
              "\n",
              "     <input type=\"file\" id=\"files-1df12f37-17e5-48f7-be0f-95e9d1dc503c\" name=\"files[]\" multiple disabled\n",
              "        style=\"border:none\" />\n",
              "     <output id=\"result-1df12f37-17e5-48f7-be0f-95e9d1dc503c\">\n",
              "      Upload widget is only available when the cell has been executed in the\n",
              "      current browser session. Please rerun this cell to enable.\n",
              "      </output>\n",
              "      <script>// Copyright 2017 Google LLC\n",
              "//\n",
              "// Licensed under the Apache License, Version 2.0 (the \"License\");\n",
              "// you may not use this file except in compliance with the License.\n",
              "// You may obtain a copy of the License at\n",
              "//\n",
              "//      http://www.apache.org/licenses/LICENSE-2.0\n",
              "//\n",
              "// Unless required by applicable law or agreed to in writing, software\n",
              "// distributed under the License is distributed on an \"AS IS\" BASIS,\n",
              "// WITHOUT WARRANTIES OR CONDITIONS OF ANY KIND, either express or implied.\n",
              "// See the License for the specific language governing permissions and\n",
              "// limitations under the License.\n",
              "\n",
              "/**\n",
              " * @fileoverview Helpers for google.colab Python module.\n",
              " */\n",
              "(function(scope) {\n",
              "function span(text, styleAttributes = {}) {\n",
              "  const element = document.createElement('span');\n",
              "  element.textContent = text;\n",
              "  for (const key of Object.keys(styleAttributes)) {\n",
              "    element.style[key] = styleAttributes[key];\n",
              "  }\n",
              "  return element;\n",
              "}\n",
              "\n",
              "// Max number of bytes which will be uploaded at a time.\n",
              "const MAX_PAYLOAD_SIZE = 100 * 1024;\n",
              "\n",
              "function _uploadFiles(inputId, outputId) {\n",
              "  const steps = uploadFilesStep(inputId, outputId);\n",
              "  const outputElement = document.getElementById(outputId);\n",
              "  // Cache steps on the outputElement to make it available for the next call\n",
              "  // to uploadFilesContinue from Python.\n",
              "  outputElement.steps = steps;\n",
              "\n",
              "  return _uploadFilesContinue(outputId);\n",
              "}\n",
              "\n",
              "// This is roughly an async generator (not supported in the browser yet),\n",
              "// where there are multiple asynchronous steps and the Python side is going\n",
              "// to poll for completion of each step.\n",
              "// This uses a Promise to block the python side on completion of each step,\n",
              "// then passes the result of the previous step as the input to the next step.\n",
              "function _uploadFilesContinue(outputId) {\n",
              "  const outputElement = document.getElementById(outputId);\n",
              "  const steps = outputElement.steps;\n",
              "\n",
              "  const next = steps.next(outputElement.lastPromiseValue);\n",
              "  return Promise.resolve(next.value.promise).then((value) => {\n",
              "    // Cache the last promise value to make it available to the next\n",
              "    // step of the generator.\n",
              "    outputElement.lastPromiseValue = value;\n",
              "    return next.value.response;\n",
              "  });\n",
              "}\n",
              "\n",
              "/**\n",
              " * Generator function which is called between each async step of the upload\n",
              " * process.\n",
              " * @param {string} inputId Element ID of the input file picker element.\n",
              " * @param {string} outputId Element ID of the output display.\n",
              " * @return {!Iterable<!Object>} Iterable of next steps.\n",
              " */\n",
              "function* uploadFilesStep(inputId, outputId) {\n",
              "  const inputElement = document.getElementById(inputId);\n",
              "  inputElement.disabled = false;\n",
              "\n",
              "  const outputElement = document.getElementById(outputId);\n",
              "  outputElement.innerHTML = '';\n",
              "\n",
              "  const pickedPromise = new Promise((resolve) => {\n",
              "    inputElement.addEventListener('change', (e) => {\n",
              "      resolve(e.target.files);\n",
              "    });\n",
              "  });\n",
              "\n",
              "  const cancel = document.createElement('button');\n",
              "  inputElement.parentElement.appendChild(cancel);\n",
              "  cancel.textContent = 'Cancel upload';\n",
              "  const cancelPromise = new Promise((resolve) => {\n",
              "    cancel.onclick = () => {\n",
              "      resolve(null);\n",
              "    };\n",
              "  });\n",
              "\n",
              "  // Wait for the user to pick the files.\n",
              "  const files = yield {\n",
              "    promise: Promise.race([pickedPromise, cancelPromise]),\n",
              "    response: {\n",
              "      action: 'starting',\n",
              "    }\n",
              "  };\n",
              "\n",
              "  cancel.remove();\n",
              "\n",
              "  // Disable the input element since further picks are not allowed.\n",
              "  inputElement.disabled = true;\n",
              "\n",
              "  if (!files) {\n",
              "    return {\n",
              "      response: {\n",
              "        action: 'complete',\n",
              "      }\n",
              "    };\n",
              "  }\n",
              "\n",
              "  for (const file of files) {\n",
              "    const li = document.createElement('li');\n",
              "    li.append(span(file.name, {fontWeight: 'bold'}));\n",
              "    li.append(span(\n",
              "        `(${file.type || 'n/a'}) - ${file.size} bytes, ` +\n",
              "        `last modified: ${\n",
              "            file.lastModifiedDate ? file.lastModifiedDate.toLocaleDateString() :\n",
              "                                    'n/a'} - `));\n",
              "    const percent = span('0% done');\n",
              "    li.appendChild(percent);\n",
              "\n",
              "    outputElement.appendChild(li);\n",
              "\n",
              "    const fileDataPromise = new Promise((resolve) => {\n",
              "      const reader = new FileReader();\n",
              "      reader.onload = (e) => {\n",
              "        resolve(e.target.result);\n",
              "      };\n",
              "      reader.readAsArrayBuffer(file);\n",
              "    });\n",
              "    // Wait for the data to be ready.\n",
              "    let fileData = yield {\n",
              "      promise: fileDataPromise,\n",
              "      response: {\n",
              "        action: 'continue',\n",
              "      }\n",
              "    };\n",
              "\n",
              "    // Use a chunked sending to avoid message size limits. See b/62115660.\n",
              "    let position = 0;\n",
              "    do {\n",
              "      const length = Math.min(fileData.byteLength - position, MAX_PAYLOAD_SIZE);\n",
              "      const chunk = new Uint8Array(fileData, position, length);\n",
              "      position += length;\n",
              "\n",
              "      const base64 = btoa(String.fromCharCode.apply(null, chunk));\n",
              "      yield {\n",
              "        response: {\n",
              "          action: 'append',\n",
              "          file: file.name,\n",
              "          data: base64,\n",
              "        },\n",
              "      };\n",
              "\n",
              "      let percentDone = fileData.byteLength === 0 ?\n",
              "          100 :\n",
              "          Math.round((position / fileData.byteLength) * 100);\n",
              "      percent.textContent = `${percentDone}% done`;\n",
              "\n",
              "    } while (position < fileData.byteLength);\n",
              "  }\n",
              "\n",
              "  // All done.\n",
              "  yield {\n",
              "    response: {\n",
              "      action: 'complete',\n",
              "    }\n",
              "  };\n",
              "}\n",
              "\n",
              "scope.google = scope.google || {};\n",
              "scope.google.colab = scope.google.colab || {};\n",
              "scope.google.colab._files = {\n",
              "  _uploadFiles,\n",
              "  _uploadFilesContinue,\n",
              "};\n",
              "})(self);\n",
              "</script> "
            ]
          },
          "metadata": {}
        },
        {
          "output_type": "stream",
          "name": "stdout",
          "text": [
            "Saving fuel_econ.csv to fuel_econ.csv\n",
            "[[-1.73714048 -1.47583548  0.28310163  0.65053594  1.46709627 -1.21737766\n",
            "  -0.85996012 -0.85242986 -1.29062982 -1.39247459 -1.00832279  1.02283829\n",
            "  -0.95057953 -0.94575548]\n",
            " [-1.73668367 -1.47583548 -0.78181585 -0.72799833  1.86476224 -1.21737766\n",
            "   0.00642675 -0.11743408  0.18494654 -0.03920038  0.07186379 -0.29854998\n",
            "   0.1886082   0.1942578 ]\n",
            " [-1.73622685 -1.47583548  0.28310163  0.49736547  1.86476224 -1.21737766\n",
            "  -0.69441634 -0.75324472 -0.5920197  -0.85174957 -0.68633929  0.56793413\n",
            "  -0.38098566 -0.37574884]\n",
            " [-1.73577004 -1.47583548  0.28310163  0.49736547  1.86476224 -1.21737766\n",
            "  -0.78280029 -0.830286   -0.82738386 -1.02758796 -0.81865124  0.752062\n",
            "  -0.38098566 -0.37574884]\n",
            " [-1.73531322 -1.47583548 -0.78181585 -0.42165738 -0.62727784  0.73489021\n",
            "   0.47108294  0.43314691  0.96751585  0.99253135  0.64805881 -0.72096098\n",
            "   1.32779592  1.33427108]]\n"
          ]
        }
      ],
      "source": [
        "from google.colab import files\n",
        "uploaded = files.upload()  # This will prompt you to upload your file\n",
        "import pandas as pd\n",
        "import numpy as np\n",
        "\n",
        "# Load the dataset (make sure to upload the file if not already done)\n",
        "data = pd.read_csv('fuel_econ.csv')\n",
        "\n",
        "# Select only numeric columns for standardization\n",
        "numeric_data = data.select_dtypes(include=[np.number])\n",
        "\n",
        "# Standardize the data (Data - Data Mean) / Data's Standard Deviation\n",
        "standardized_data = (numeric_data.values - np.mean(numeric_data.values, axis=0)) / np.std(numeric_data.values, axis=0)\n",
        "\n",
        "# Display the first few rows of standardized data\n",
        "print(standardized_data[:5])\n"
      ]
    },
    {
      "cell_type": "markdown",
      "metadata": {
        "id": "GWiYB8FNGEwc"
      },
      "source": [
        "### Step 3: Calculate the Covariance Matrix\n",
        "The covariance matrix helps us understand how the features are related to each other. It is a key component in PCA."
      ]
    },
    {
      "cell_type": "code",
      "execution_count": null,
      "metadata": {
        "id": "z8VhJFO2GEwc",
        "outputId": "001efec6-37cb-4034-8f0d-f083e2f068d0",
        "colab": {
          "base_uri": "https://localhost:8080/"
        }
      },
      "outputs": [
        {
          "output_type": "execute_result",
          "data": {
            "text/plain": [
              "array([[ 1.00025458,  0.98591866, -0.06011148, -0.07468488, -0.00657025,\n",
              "        -0.02195656,  0.09182316,  0.09124849,  0.0906161 ,  0.09538375,\n",
              "         0.09382686, -0.09974229, -0.1279056 , -0.12235207],\n",
              "       [ 0.98591866,  1.00025458, -0.05532701, -0.07044161,  0.00623397,\n",
              "        -0.03365174,  0.06806739,  0.06675938,  0.07330836,  0.07766039,\n",
              "         0.07201181, -0.0811853 , -0.1498676 , -0.14517775],\n",
              "       [-0.06011148, -0.05532701,  1.00025458,  0.93411019,  0.24763384,\n",
              "        -0.00426546, -0.69327904, -0.66619842, -0.76646982, -0.77169964,\n",
              "        -0.73821112,  0.84848979, -0.78405759, -0.78201448],\n",
              "       [-0.07468488, -0.07044161,  0.93411019,  1.00025458,  0.2594021 ,\n",
              "         0.02207729, -0.71366074, -0.6863403 , -0.78418374, -0.78865771,\n",
              "        -0.75859024,  0.85559254, -0.7936343 , -0.79141752],\n",
              "       [-0.00657025,  0.00623397,  0.24763384,  0.2594021 ,  1.00025458,\n",
              "        -0.66581137, -0.27817962, -0.27261515, -0.29688365, -0.29858023,\n",
              "        -0.29095711,  0.28727323, -0.2961638 , -0.29323103],\n",
              "       [-0.02195656, -0.03365174, -0.00426546,  0.02207729, -0.66581137,\n",
              "         1.00025458,  0.03519659,  0.03787859,  0.07497068,  0.07746161,\n",
              "         0.04734493, -0.05016567,  0.06489226,  0.06527952],\n",
              "       [ 0.09182316,  0.06806739, -0.69327904, -0.71366074, -0.27817962,\n",
              "         0.03519659,  1.00025458,  0.99663082,  0.9156677 ,  0.90989004,\n",
              "         0.98980432, -0.90453509,  0.9059112 ,  0.89902154],\n",
              "       [ 0.09124849,  0.06675938, -0.66619842, -0.6863403 , -0.27261515,\n",
              "         0.03787859,  0.99663082,  1.00025458,  0.89978578,  0.89804238,\n",
              "         0.98135571, -0.8860481 ,  0.89152389,  0.88468357],\n",
              "       [ 0.0906161 ,  0.07330836, -0.76646982, -0.78418374, -0.29688365,\n",
              "         0.07497068,  0.9156677 ,  0.89978578,  1.00025458,  0.99244327,\n",
              "         0.9630022 , -0.91668944,  0.91434884,  0.89781322],\n",
              "       [ 0.09538375,  0.07766039, -0.77169964, -0.78865771, -0.29858023,\n",
              "         0.07746161,  0.90989004,  0.89804238,  0.99244327,  1.00025458,\n",
              "         0.95682339, -0.91234956,  0.91158665,  0.89454192],\n",
              "       [ 0.09382686,  0.07201181, -0.73821112, -0.75859024, -0.29095711,\n",
              "         0.04734493,  0.98980432,  0.98135571,  0.9630022 ,  0.95682339,\n",
              "         1.00025458, -0.92963549,  0.92909879,  0.91904062],\n",
              "       [-0.09974229, -0.0811853 ,  0.84848979,  0.85559254,  0.28727323,\n",
              "        -0.05016567, -0.90453509, -0.8860481 , -0.91668944, -0.91234956,\n",
              "        -0.92963549,  1.00025458, -0.94086368, -0.94480617],\n",
              "       [-0.1279056 , -0.1498676 , -0.78405759, -0.7936343 , -0.2961638 ,\n",
              "         0.06489226,  0.9059112 ,  0.89152389,  0.91434884,  0.91158665,\n",
              "         0.92909879, -0.94086368,  1.00025458,  0.99448412],\n",
              "       [-0.12235207, -0.14517775, -0.78201448, -0.79141752, -0.29323103,\n",
              "         0.06527952,  0.89902154,  0.88468357,  0.89781322,  0.89454192,\n",
              "         0.91904062, -0.94480617,  0.99448412,  1.00025458]])"
            ]
          },
          "metadata": {},
          "execution_count": 5
        }
      ],
      "source": [
        "# Step 3: Calculate the Covariance Matrix\n",
        "cov_matrix = np.cov(standardized_data, rowvar=False)  # Calculate covariance matrix\n",
        "cov_matrix"
      ]
    },
    {
      "cell_type": "markdown",
      "metadata": {
        "id": "3rBO-Q5MGEwd"
      },
      "source": [
        "### Step 4: Perform Eigendecomposition\n",
        "Eigendecomposition of the covariance matrix will give us the eigenvalues and eigenvectors, which are essential for PCA.\n",
        "Fill in the code to compute the eigenvalues and eigenvectors of the covariance matrix."
      ]
    },
    {
      "cell_type": "code",
      "execution_count": null,
      "metadata": {
        "id": "ZwnDWDBCGEwe",
        "outputId": "cc6a5322-d1b2-460d-ccd5-189af6c87794",
        "colab": {
          "base_uri": "https://localhost:8080/"
        }
      },
      "outputs": [
        {
          "output_type": "execute_result",
          "data": {
            "text/plain": [
              "(array([8.95720924e+00, 2.06777956e+00, 1.59364217e+00, 6.70587666e-01,\n",
              "        3.01684118e-01, 1.61017548e-01, 1.25550471e-01, 6.40205207e-02,\n",
              "        3.23528963e-02, 1.36962433e-02, 9.24627112e-03, 4.24637785e-03,\n",
              "        2.14358185e-03, 3.87485886e-04]),\n",
              " array([[ 1.89952516e-02, -6.87675276e-01,  7.65365183e-02,\n",
              "          1.83729680e-02, -1.42115022e-02,  7.02789695e-02,\n",
              "          1.14861126e-01,  4.01097554e-03, -1.15143583e-01,\n",
              "         -6.95538857e-01, -6.83326435e-02,  2.10633586e-02,\n",
              "         -7.10578367e-03,  6.07618642e-04],\n",
              "        [ 1.24694065e-02, -6.89503292e-01,  6.88439505e-02,\n",
              "         -9.43831862e-03, -1.35600088e-02,  3.37955333e-02,\n",
              "          8.53170135e-02, -7.51768613e-03, -5.48830131e-02,\n",
              "          7.10425085e-01,  5.58369479e-02, -9.48384475e-03,\n",
              "         -3.26885432e-04, -3.98397374e-03],\n",
              "        [-2.81632694e-01,  1.98550575e-02,  5.61398643e-02,\n",
              "          6.00933196e-01,  9.71151716e-02, -7.09369930e-02,\n",
              "          2.53817629e-01, -6.79764243e-01,  1.19688616e-01,\n",
              "          2.20121563e-03,  1.99493288e-02,  1.60174402e-02,\n",
              "          8.04028190e-03, -8.90395340e-04],\n",
              "        [-2.86142593e-01,  3.10582044e-02,  6.39803619e-02,\n",
              "          5.69008152e-01, -1.12579685e-02,  5.20085469e-04,\n",
              "          2.41804525e-01,  7.26076226e-01,  5.26897639e-02,\n",
              "          1.88707728e-02,  2.64926668e-03,  2.74345123e-03,\n",
              "          1.81240405e-02,  5.96415755e-03],\n",
              "        [-1.13744496e-01, -6.35462585e-02, -6.68453743e-01,\n",
              "          1.11921299e-01, -7.14324777e-01,  5.74549175e-02,\n",
              "         -8.32812952e-02, -5.31588314e-02, -1.69233476e-02,\n",
              "         -1.20771098e-03, -5.08741222e-03,  2.49515657e-03,\n",
              "          4.77699628e-03,  1.38002408e-03],\n",
              "        [ 2.70758334e-02,  8.29599394e-02,  7.27541248e-01,\n",
              "          4.21668361e-02, -6.60327363e-01,  8.80109065e-02,\n",
              "         -1.15893864e-01, -6.09407894e-02, -1.50666539e-02,\n",
              "          6.07275003e-03, -7.58040546e-03,  3.43747016e-03,\n",
              "          5.48765707e-03,  1.91014202e-03],\n",
              "        [ 3.18051748e-01, -2.85135436e-02, -3.09457159e-02,\n",
              "          3.07741602e-01,  9.17288395e-02,  2.33582113e-01,\n",
              "         -3.48523745e-01, -1.55857376e-03,  4.42386886e-03,\n",
              "          1.69645875e-02, -1.66951941e-01,  2.83920592e-02,\n",
              "          4.69767835e-01, -6.06838753e-01],\n",
              "        [ 3.13255816e-01, -2.82923311e-02, -2.88424193e-02,\n",
              "          3.50190560e-01,  9.64490942e-02,  2.61685754e-01,\n",
              "         -4.01063566e-01,  5.82474590e-03, -5.01782609e-02,\n",
              "         -1.87450161e-02,  3.40247326e-01, -3.70704540e-02,\n",
              "         -6.39659984e-01,  9.87960517e-02],\n",
              "        [ 3.22311434e-01, -2.87446531e-02, -7.41844009e-03,\n",
              "          1.06756217e-01, -8.36095900e-02, -5.79051855e-01,\n",
              "          6.98415760e-02,  2.77125052e-02,  9.29454003e-02,\n",
              "          3.47168354e-02, -5.54437663e-01, -8.10568303e-02,\n",
              "         -4.06961918e-01, -2.15560379e-01],\n",
              "        [ 3.21798899e-01, -3.18825751e-02, -5.04723357e-03,\n",
              "          9.25701948e-02, -8.81244175e-02, -5.98740052e-01,\n",
              "          5.43149286e-02,  3.27585244e-02, -3.73565517e-02,\n",
              "         -6.93222596e-02,  6.60371426e-01, -1.66112419e-02,\n",
              "          2.69949131e-01, -3.33988596e-02],\n",
              "        [ 3.26431467e-01, -2.95439904e-02, -2.46646202e-02,\n",
              "          2.32059576e-01,  3.57371029e-02, -3.52013759e-02,\n",
              "         -1.98176493e-01,  3.36046564e-04,  2.43702958e-02,\n",
              "          2.76273040e-02, -3.06928130e-01, -1.61455289e-03,\n",
              "          3.55719959e-01,  7.57771730e-01],\n",
              "        [-3.24688616e-01,  3.09636927e-02,  2.93518765e-02,\n",
              "          8.18837257e-02,  7.40173982e-02, -2.55009838e-01,\n",
              "         -3.27527105e-01, -2.56968080e-02, -8.31166274e-01,\n",
              "          2.88398819e-02, -9.59897926e-02, -8.09763007e-02,\n",
              "          1.25678109e-02, -3.29955487e-03],\n",
              "        [ 3.21900973e-01,  1.31945566e-01, -3.65682913e-02,\n",
              "          4.07422491e-02, -4.52335010e-02,  1.50377117e-01,\n",
              "          4.11647519e-01, -1.91175338e-02, -3.95194409e-01,\n",
              "          5.05543624e-02, -3.41858876e-02,  7.19798863e-01,\n",
              "         -5.88483770e-02, -4.22856834e-03],\n",
              "        [ 3.19831952e-01,  1.29271611e-01, -3.65195901e-02,\n",
              "          2.92741212e-02, -4.98906660e-02,  2.68563294e-01,\n",
              "          4.79705745e-01, -3.49036362e-02, -3.25473709e-01,\n",
              "          1.79402067e-02, -2.05372106e-03, -6.82266534e-01,\n",
              "          3.17540349e-02, -9.96924525e-03]]))"
            ]
          },
          "metadata": {},
          "execution_count": 6
        }
      ],
      "source": [
        "# Step 4: Perform Eigendecomposition\n",
        "eigenvalues, eigenvectors = np.linalg.eig(cov_matrix)  # Perform eigendecomposition\n",
        "eigenvalues, eigenvectors"
      ]
    },
    {
      "cell_type": "markdown",
      "metadata": {
        "id": "UmJDDlllGEwf"
      },
      "source": [
        "### Step 5: Sort Principal Components\n",
        "Sort the eigenvectors based on their corresponding eigenvalues in descending order. The higher the eigenvalue, the more important the eigenvector.\n",
        "Complete the code to sort the eigenvectors and print the sorted components."
      ]
    },
    {
      "cell_type": "code",
      "execution_count": null,
      "metadata": {
        "id": "IzP45qUgGEwg",
        "outputId": "6fed6a53-1ec3-4e6e-ebe5-0b06f590db85",
        "colab": {
          "base_uri": "https://localhost:8080/"
        }
      },
      "outputs": [
        {
          "output_type": "execute_result",
          "data": {
            "text/plain": [
              "array([[ 1.89952516e-02, -6.87675276e-01,  7.65365183e-02,\n",
              "         1.83729680e-02, -1.42115022e-02,  7.02789695e-02,\n",
              "         1.14861126e-01,  4.01097554e-03, -1.15143583e-01,\n",
              "        -6.95538857e-01, -6.83326435e-02,  2.10633586e-02,\n",
              "        -7.10578367e-03,  6.07618642e-04],\n",
              "       [ 1.24694065e-02, -6.89503292e-01,  6.88439505e-02,\n",
              "        -9.43831862e-03, -1.35600088e-02,  3.37955333e-02,\n",
              "         8.53170135e-02, -7.51768613e-03, -5.48830131e-02,\n",
              "         7.10425085e-01,  5.58369479e-02, -9.48384475e-03,\n",
              "        -3.26885432e-04, -3.98397374e-03],\n",
              "       [-2.81632694e-01,  1.98550575e-02,  5.61398643e-02,\n",
              "         6.00933196e-01,  9.71151716e-02, -7.09369930e-02,\n",
              "         2.53817629e-01, -6.79764243e-01,  1.19688616e-01,\n",
              "         2.20121563e-03,  1.99493288e-02,  1.60174402e-02,\n",
              "         8.04028190e-03, -8.90395340e-04],\n",
              "       [-2.86142593e-01,  3.10582044e-02,  6.39803619e-02,\n",
              "         5.69008152e-01, -1.12579685e-02,  5.20085469e-04,\n",
              "         2.41804525e-01,  7.26076226e-01,  5.26897639e-02,\n",
              "         1.88707728e-02,  2.64926668e-03,  2.74345123e-03,\n",
              "         1.81240405e-02,  5.96415755e-03],\n",
              "       [-1.13744496e-01, -6.35462585e-02, -6.68453743e-01,\n",
              "         1.11921299e-01, -7.14324777e-01,  5.74549175e-02,\n",
              "        -8.32812952e-02, -5.31588314e-02, -1.69233476e-02,\n",
              "        -1.20771098e-03, -5.08741222e-03,  2.49515657e-03,\n",
              "         4.77699628e-03,  1.38002408e-03],\n",
              "       [ 2.70758334e-02,  8.29599394e-02,  7.27541248e-01,\n",
              "         4.21668361e-02, -6.60327363e-01,  8.80109065e-02,\n",
              "        -1.15893864e-01, -6.09407894e-02, -1.50666539e-02,\n",
              "         6.07275003e-03, -7.58040546e-03,  3.43747016e-03,\n",
              "         5.48765707e-03,  1.91014202e-03],\n",
              "       [ 3.18051748e-01, -2.85135436e-02, -3.09457159e-02,\n",
              "         3.07741602e-01,  9.17288395e-02,  2.33582113e-01,\n",
              "        -3.48523745e-01, -1.55857376e-03,  4.42386886e-03,\n",
              "         1.69645875e-02, -1.66951941e-01,  2.83920592e-02,\n",
              "         4.69767835e-01, -6.06838753e-01],\n",
              "       [ 3.13255816e-01, -2.82923311e-02, -2.88424193e-02,\n",
              "         3.50190560e-01,  9.64490942e-02,  2.61685754e-01,\n",
              "        -4.01063566e-01,  5.82474590e-03, -5.01782609e-02,\n",
              "        -1.87450161e-02,  3.40247326e-01, -3.70704540e-02,\n",
              "        -6.39659984e-01,  9.87960517e-02],\n",
              "       [ 3.22311434e-01, -2.87446531e-02, -7.41844009e-03,\n",
              "         1.06756217e-01, -8.36095900e-02, -5.79051855e-01,\n",
              "         6.98415760e-02,  2.77125052e-02,  9.29454003e-02,\n",
              "         3.47168354e-02, -5.54437663e-01, -8.10568303e-02,\n",
              "        -4.06961918e-01, -2.15560379e-01],\n",
              "       [ 3.21798899e-01, -3.18825751e-02, -5.04723357e-03,\n",
              "         9.25701948e-02, -8.81244175e-02, -5.98740052e-01,\n",
              "         5.43149286e-02,  3.27585244e-02, -3.73565517e-02,\n",
              "        -6.93222596e-02,  6.60371426e-01, -1.66112419e-02,\n",
              "         2.69949131e-01, -3.33988596e-02],\n",
              "       [ 3.26431467e-01, -2.95439904e-02, -2.46646202e-02,\n",
              "         2.32059576e-01,  3.57371029e-02, -3.52013759e-02,\n",
              "        -1.98176493e-01,  3.36046564e-04,  2.43702958e-02,\n",
              "         2.76273040e-02, -3.06928130e-01, -1.61455289e-03,\n",
              "         3.55719959e-01,  7.57771730e-01],\n",
              "       [-3.24688616e-01,  3.09636927e-02,  2.93518765e-02,\n",
              "         8.18837257e-02,  7.40173982e-02, -2.55009838e-01,\n",
              "        -3.27527105e-01, -2.56968080e-02, -8.31166274e-01,\n",
              "         2.88398819e-02, -9.59897926e-02, -8.09763007e-02,\n",
              "         1.25678109e-02, -3.29955487e-03],\n",
              "       [ 3.21900973e-01,  1.31945566e-01, -3.65682913e-02,\n",
              "         4.07422491e-02, -4.52335010e-02,  1.50377117e-01,\n",
              "         4.11647519e-01, -1.91175338e-02, -3.95194409e-01,\n",
              "         5.05543624e-02, -3.41858876e-02,  7.19798863e-01,\n",
              "        -5.88483770e-02, -4.22856834e-03],\n",
              "       [ 3.19831952e-01,  1.29271611e-01, -3.65195901e-02,\n",
              "         2.92741212e-02, -4.98906660e-02,  2.68563294e-01,\n",
              "         4.79705745e-01, -3.49036362e-02, -3.25473709e-01,\n",
              "         1.79402067e-02, -2.05372106e-03, -6.82266534e-01,\n",
              "         3.17540349e-02, -9.96924525e-03]])"
            ]
          },
          "metadata": {},
          "execution_count": 9
        }
      ],
      "source": [
        "# Step 5: Sort Principal Components\n",
        "sorted_indices = np.argsort(eigenvalues)[::-1]  # Sort eigenvalues in descending order\n",
        "sorted_eigenvectors = eigenvectors[:, sorted_indices]  # Sort eigenvectors accordingly\n",
        "sorted_eigenvectors"
      ]
    },
    {
      "cell_type": "markdown",
      "metadata": {
        "id": "diBjIhJVGEwg"
      },
      "source": [
        "### Step 6: Project Data onto Principal Components\n",
        "Now that we’ve selected the number of components, we will project the original data onto the chosen principal components.\n",
        "Fill in the code to perform the projection."
      ]
    },
    {
      "cell_type": "code",
      "execution_count": null,
      "metadata": {
        "id": "ZA5Jn7OOGEwh",
        "outputId": "dd6a28db-8d67-47be-fa6c-036f118eb139",
        "colab": {
          "base_uri": "https://localhost:8080/"
        }
      },
      "outputs": [
        {
          "output_type": "execute_result",
          "data": {
            "text/plain": [
              "array([[-3.19146207,  1.98769416],\n",
              "       [ 0.38752701,  1.99194578],\n",
              "       [-2.09148498,  2.03743394],\n",
              "       [-2.37914076,  2.06380156],\n",
              "       [ 2.5972681 ,  2.50420206]])"
            ]
          },
          "metadata": {},
          "execution_count": 10
        }
      ],
      "source": [
        "# Step 6: Project Data onto Principal Components\n",
        "num_components = 2  # Decide on the number of principal components to keep\n",
        "reduced_data = np.dot(standardized_data, sorted_eigenvectors[:, :num_components])  # Project data onto the principal components\n",
        "reduced_data[:5]"
      ]
    },
    {
      "cell_type": "markdown",
      "metadata": {
        "id": "qPE1cMiAGEwi"
      },
      "source": [
        "### Step 7: Output the Reduced Data\n",
        "Finally, display the reduced data obtained by projecting the original dataset onto the selected principal components."
      ]
    },
    {
      "cell_type": "code",
      "execution_count": null,
      "metadata": {
        "id": "bxYqgKEeGEwi",
        "outputId": "65dcad01-befc-4cc3-802b-1474b0177b6a",
        "colab": {
          "base_uri": "https://localhost:8080/"
        }
      },
      "outputs": [
        {
          "output_type": "stream",
          "name": "stdout",
          "text": [
            "Reduced Data Shape: (3929, 2)\n"
          ]
        },
        {
          "output_type": "execute_result",
          "data": {
            "text/plain": [
              "array([[-3.19146207,  1.98769416],\n",
              "       [ 0.38752701,  1.99194578],\n",
              "       [-2.09148498,  2.03743394],\n",
              "       [-2.37914076,  2.06380156],\n",
              "       [ 2.5972681 ,  2.50420206]])"
            ]
          },
          "metadata": {},
          "execution_count": 11
        }
      ],
      "source": [
        "# Step 7: Output the Reduced Data\n",
        "print(f'Reduced Data Shape: {reduced_data.shape}')  # Display reduced data shape\n",
        "reduced_data[:5]  # Display the first few rows of reduced data"
      ]
    },
    {
      "cell_type": "markdown",
      "metadata": {
        "id": "lBJ4x9dnGEwj"
      },
      "source": [
        "### Step 8: Visualize Before and After PCA\n",
        "Now, let's plot the original data and the data after PCA to compare the reduction in dimensions visually."
      ]
    },
    {
      "cell_type": "code",
      "execution_count": null,
      "metadata": {
        "id": "5fWHpZ5HGEwj",
        "outputId": "f99160cf-e713-49af-dce0-48b83f3b79f1",
        "colab": {
          "base_uri": "https://localhost:8080/",
          "height": 607
        }
      },
      "outputs": [
        {
          "output_type": "display_data",
          "data": {
            "text/plain": [
              "<Figure size 800x600 with 2 Axes>"
            ],
            "image/png": "[encoded data removed]"
          },
          "metadata": {}
        }
      ],
      "source": [
        "# Step 8: Visualize Before and After PCA\n",
        "\n",
        "\n",
        "import matplotlib.pyplot as plt\n",
        "# Plot original data (first two features for simplicity)\n",
        "\n",
        "plt.figure(figsize=(8, 6))\n",
        "plt.subplot(1, 2, 1)\n",
        "plt.scatter(standardized_data[:, 0], standardized_data[:, 1])\n",
        "plt.title('Original Data (First Two Features)')\n",
        "plt.xlabel('Feature 1')\n",
        "plt.ylabel('Feature 2')\n",
        "# Plot reduced data after PCA\n",
        "\n",
        "plt.subplot(1, 2, 2)\n",
        "plt.scatter(reduced_data[:, 0], reduced_data[:, 1])\n",
        "plt.title('Data After PCA')\n",
        "plt.xlabel('Principal Component 1')\n",
        "plt.ylabel('Principal Component 2')\n",
        "\n",
        "plt.tight_layout()\n",
        "plt.show()\n"
      ]
    }
  ],
  "metadata": {
    "kernelspec": {
      "display_name": "Python 3",
      "name": "python3"
    },
    "language_info": {
      "name": "python",
      "version": "3.8.8"
    },
    "colab": {
      "provenance": []
    }
  },
  "nbformat": 4,
  "nbformat_minor": 0
}
